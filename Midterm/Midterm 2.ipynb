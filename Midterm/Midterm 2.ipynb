{
 "cells": [
  {
   "cell_type": "markdown",
   "id": "a831c6e5",
   "metadata": {},
   "source": [
    "# Midterm 2 \n",
    " \n",
    "Lorn Sokly"
   ]
  },
  {
   "cell_type": "code",
   "execution_count": null,
   "id": "95186fb7",
   "metadata": {},
   "outputs": [],
   "source": [
    "# Exercise 1:\n",
    "\n",
    "def concat_files(in_file1,in_file2,out_file):\n",
    "    \n",
    "    with open(in_file1) as file:\n",
    "        data1 = file.read()\n",
    "    with open(in_file2) as file:\n",
    "        data2 = file.read()\n",
    "\n",
    "    data1 += \"\\n\"\n",
    "    data1 += data2\n",
    "\n",
    "    with open(out_file, 'w') as file:\n",
    "        file.write(data1)        "
   ]
  },
  {
   "cell_type": "code",
   "execution_count": 1,
   "id": "b6c0b626",
   "metadata": {},
   "outputs": [],
   "source": [
    "# Exercise 2:\n",
    "\n",
    "def longest_line(text_file):\n",
    "    print(max(open(text_file), key=len))"
   ]
  },
  {
   "cell_type": "code",
   "execution_count": 2,
   "id": "e1a62e59",
   "metadata": {},
   "outputs": [
    {
     "name": "stdout",
     "output_type": "stream",
     "text": [
      "{0: 10, 1: 11, 2: 12, 3: 13, 4: 14}\n"
     ]
    }
   ],
   "source": [
    "# Exercise 3\n",
    "    \n",
    "def to_dict(list1,list2):\n",
    "    return dict(zip(list1, list2))\n",
    "print(to_dict(list(range(5)),list(range(10,15))))"
   ]
  }
 ],
 "metadata": {
  "kernelspec": {
   "display_name": "Python 3 (ipykernel)",
   "language": "python",
   "name": "python3"
  },
  "language_info": {
   "codemirror_mode": {
    "name": "ipython",
    "version": 3
   },
   "file_extension": ".py",
   "mimetype": "text/x-python",
   "name": "python",
   "nbconvert_exporter": "python",
   "pygments_lexer": "ipython3",
   "version": "3.9.12"
  }
 },
 "nbformat": 4,
 "nbformat_minor": 5
}
