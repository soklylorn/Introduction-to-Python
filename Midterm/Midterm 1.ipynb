{
 "cells": [
  {
   "cell_type": "markdown",
   "id": "f18b6596",
   "metadata": {},
   "source": [
    "# Midterm 1\n",
    "\n",
    "Lorn Sokly"
   ]
  },
  {
   "cell_type": "code",
   "execution_count": null,
   "id": "aebf4bdb",
   "metadata": {},
   "outputs": [],
   "source": [
    "# don't remember if I did it right or wrong. You should double check it before using it.\n",
    "# I will take a look at it later"
   ]
  },
  {
   "cell_type": "code",
   "execution_count": 1,
   "id": "7dbb143b",
   "metadata": {},
   "outputs": [],
   "source": [
    "#Ex1\n",
    "\n",
    "def my_len(l):\n",
    "    count=0\n",
    "    for i in l:\n",
    "        count +=1\n",
    "    return count\n",
    " "
   ]
  },
  {
   "cell_type": "code",
   "execution_count": null,
   "id": "b314202c",
   "metadata": {},
   "outputs": [],
   "source": [
    "#Ex 2\n",
    "  \n",
    "def add_lists(a,b):\n",
    "    res_list=[]\n",
    "      for i in range(0,len(a)):\n",
    "            res_list.append(a[i] + b[i])\n",
    "    return res_list"
   ]
  },
  {
   "cell_type": "code",
   "execution_count": null,
   "id": "057d426d",
   "metadata": {},
   "outputs": [],
   "source": [
    "#Ex 3 \n",
    "def swap(l):\n",
    "    for i in range(1,len(l)):\n",
    "        if i%2==0:\n",
    "            l[i+1]=l[i]\n",
    "        else:\n",
    "            l[i-1]=l[i]\n",
    "        return l"
   ]
  }
 ],
 "metadata": {
  "kernelspec": {
   "display_name": "Python 3 (ipykernel)",
   "language": "python",
   "name": "python3"
  },
  "language_info": {
   "codemirror_mode": {
    "name": "ipython",
    "version": 3
   },
   "file_extension": ".py",
   "mimetype": "text/x-python",
   "name": "python",
   "nbconvert_exporter": "python",
   "pygments_lexer": "ipython3",
   "version": "3.9.12"
  }
 },
 "nbformat": 4,
 "nbformat_minor": 5
}
