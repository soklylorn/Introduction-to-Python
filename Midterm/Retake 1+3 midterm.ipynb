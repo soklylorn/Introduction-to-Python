{
 "cells": [
  {
   "cell_type": "markdown",
   "id": "e26de3de",
   "metadata": {},
   "source": [
    "# First midterm retake "
   ]
  },
  {
   "cell_type": "code",
   "execution_count": 9,
   "id": "9cf1ed59",
   "metadata": {},
   "outputs": [
    {
     "data": {
      "text/plain": [
       "3"
      ]
     },
     "execution_count": 9,
     "metadata": {},
     "output_type": "execute_result"
    }
   ],
   "source": [
    "# 1\n",
    "def count(lst,b):\n",
    "    cnt=0\n",
    "    for i in range(len(lst)):\n",
    "        if lst[i]==b:\n",
    "            cnt+=1\n",
    "    return cnt\n",
    "\n",
    "count([1,2,3,4,3,2,4,5,2,1,5],2)\n",
    "\n"
   ]
  },
  {
   "cell_type": "code",
   "execution_count": 4,
   "id": "31408d67",
   "metadata": {},
   "outputs": [
    {
     "name": "stdout",
     "output_type": "stream",
     "text": [
      "[1000, 729, 512, 343, 216, 125, 64, 27, 8, 1]\n"
     ]
    }
   ],
   "source": [
    "#2\n",
    "\n",
    "def cubes(num):\n",
    "    result = []\n",
    "    for i in range(1, num):\n",
    "        if(i*i*i <= num):\n",
    "            result.append(i*i*i)\n",
    "    result.reverse()\n",
    "    print(result)\n",
    "    \n",
    "cubes(1000)"
   ]
  },
  {
   "cell_type": "code",
   "execution_count": null,
   "id": "9fd3c1ed",
   "metadata": {},
   "outputs": [],
   "source": [
    "# 3\n",
    "def psum(lst):\n",
    "    numbers = []\n",
    "    for i in range(1, len(lst) + 1):\n",
    "        numbers.append(sum(lst[:i]))\n",
    "    return numbers\n",
    "\n",
    "psum(list(range(1,10)))"
   ]
  },
  {
   "cell_type": "markdown",
   "id": "ae5fc8af",
   "metadata": {},
   "source": [
    "# Third Midterm retake "
   ]
  },
  {
   "cell_type": "code",
   "execution_count": 5,
   "id": "23d1f378",
   "metadata": {},
   "outputs": [
    {
     "data": {
      "text/plain": [
       "[2, 2, 2, 2, 2]"
      ]
     },
     "execution_count": 5,
     "metadata": {},
     "output_type": "execute_result"
    }
   ],
   "source": [
    "# 1\n",
    "\n",
    "def iter(val, n, *,fun = lambda x:x):\n",
    "    ans = [val] \n",
    "    for i in range(n):\n",
    "        ans.append(fun(ans[-1]))\n",
    "    return ans\n",
    "\n",
    "iter(2,4)\n"
   ]
  },
  {
   "cell_type": "code",
   "execution_count": 6,
   "id": "a174fc3e",
   "metadata": {},
   "outputs": [
    {
     "data": {
      "text/plain": [
       "4"
      ]
     },
     "execution_count": 6,
     "metadata": {},
     "output_type": "execute_result"
    }
   ],
   "source": [
    "def xtractor(*nums):\n",
    "    if len(nums) == 1:\n",
    "        return lambda ls: ls[nums[0]]\n",
    "    return lambda ls: tuple([ls[i] for i in list(nums)])\n",
    "\n",
    "f = xtractor(3) ; g = xtractor(3,2) ; l = list(range(1,10))\n",
    "f(l)"
   ]
  },
  {
   "cell_type": "code",
   "execution_count": 7,
   "id": "5e7d6021",
   "metadata": {},
   "outputs": [
    {
     "data": {
      "text/plain": [
       "[16, 6, [2, 6, [10, 12, 14], 12], 8, 4, 2]"
      ]
     },
     "execution_count": 7,
     "metadata": {},
     "output_type": "execute_result"
    }
   ],
   "source": [
    "#3\n",
    "\n",
    "def double(ls):\n",
    "    return [double(x) if type(x) == list else 2*x for x in ls]\n",
    "\n",
    "double([8,3,[1,3, [5,6,7],6],4,2,1])"
   ]
  },
  {
   "cell_type": "code",
   "execution_count": null,
   "id": "a84bc2f0",
   "metadata": {},
   "outputs": [],
   "source": []
  }
 ],
 "metadata": {
  "kernelspec": {
   "display_name": "Python 3 (ipykernel)",
   "language": "python",
   "name": "python3"
  },
  "language_info": {
   "codemirror_mode": {
    "name": "ipython",
    "version": 3
   },
   "file_extension": ".py",
   "mimetype": "text/x-python",
   "name": "python",
   "nbconvert_exporter": "python",
   "pygments_lexer": "ipython3",
   "version": "3.9.12"
  }
 },
 "nbformat": 4,
 "nbformat_minor": 5
}
